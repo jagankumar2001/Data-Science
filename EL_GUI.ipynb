{
 "cells": [
  {
   "cell_type": "code",
   "execution_count": 3,
   "id": "2290b1bf-8e39-4836-82ea-b2c472c99f69",
   "metadata": {},
   "outputs": [
    {
     "name": "stderr",
     "output_type": "stream",
     "text": [
      "C:\\Users\\cjaga\\anaconda3\\Lib\\site-packages\\sklearn\\base.py:493: UserWarning: X does not have valid feature names, but KNeighborsClassifier was fitted with feature names\n",
      "  warnings.warn(\n",
      "C:\\Users\\cjaga\\anaconda3\\Lib\\site-packages\\sklearn\\base.py:493: UserWarning: X does not have valid feature names, but DecisionTreeClassifier was fitted with feature names\n",
      "  warnings.warn(\n",
      "C:\\Users\\cjaga\\anaconda3\\Lib\\site-packages\\sklearn\\base.py:493: UserWarning: X does not have valid feature names, but LinearRegression was fitted with feature names\n",
      "  warnings.warn(\n"
     ]
    }
   ],
   "source": [
    "import tkinter as tk\n",
    "from tkinter import ttk, messagebox\n",
    "import numpy as np\n",
    "import pandas as pd\n",
    "from sklearn.model_selection import train_test_split\n",
    "from sklearn.preprocessing import LabelEncoder\n",
    "from sklearn.neighbors import KNeighborsClassifier\n",
    "from sklearn.tree import DecisionTreeClassifier\n",
    "from sklearn.linear_model import LinearRegression\n",
    "\n",
    "# Load dataset\n",
    "df = pd.read_csv(\"Crop_recommendation.csv\")\n",
    "\n",
    "# Preprocess the data (encoding and splitting)\n",
    "le = LabelEncoder()\n",
    "df['label'] = le.fit_transform(df['label'])\n",
    "X = df.drop(columns=['label'])\n",
    "y = df['label']\n",
    "X_train, X_test, y_train, y_test = train_test_split(X, y, test_size=0.3, random_state=42)\n",
    "\n",
    "# Define Models\n",
    "knn = KNeighborsClassifier(n_neighbors=3)\n",
    "dt = DecisionTreeClassifier(random_state=42)\n",
    "lr = LinearRegression()\n",
    "\n",
    "# Train Models\n",
    "knn.fit(X_train, y_train)\n",
    "dt.fit(X_train, y_train)\n",
    "\n",
    "# For Linear Regression, use all features except 'rainfall' as inputs and 'rainfall' as the target\n",
    "X_lr = df.drop(columns=['label', 'rainfall'])\n",
    "y_lr = df['rainfall']\n",
    "X_train_lr, X_test_lr, y_train_lr, y_test_lr = train_test_split(X_lr, y_lr, test_size=0.3, random_state=42)\n",
    "lr.fit(X_train_lr, y_train_lr)\n",
    "\n",
    "# Define GUI logic for model selection and prediction\n",
    "def get_model():\n",
    "    selected_model = model_combobox.get()\n",
    "    if selected_model == \"KNN\":\n",
    "        model = knn\n",
    "    elif selected_model == \"Decision Tree\":\n",
    "        model = dt\n",
    "    elif selected_model == \"Linear Regression\":\n",
    "        model = lr\n",
    "    else:\n",
    "        messagebox.showerror(\"Error\", \"Please select a valid model.\")\n",
    "        return None\n",
    "    return model\n",
    "\n",
    "def predict():\n",
    "    try:\n",
    "        # Get user inputs\n",
    "        N = float(entry_N.get())\n",
    "        P = float(entry_P.get())\n",
    "        K = float(entry_K.get())\n",
    "        temperature = float(entry_temperature.get())\n",
    "        humidity = float(entry_humidity.get())\n",
    "        ph = float(entry_ph.get())\n",
    "        rainfall = float(entry_rainfall.get())\n",
    "        \n",
    "        # Prepare features based on the selected model\n",
    "        model = get_model()\n",
    "        if model is None:\n",
    "            return\n",
    "        \n",
    "        if model == lr:\n",
    "            # For Linear Regression, exclude 'rainfall' from the input features\n",
    "            features = np.array([[N, P, K, temperature, humidity, ph]])\n",
    "            prediction = model.predict(features)\n",
    "            result_label.config(text=f\"Predicted Rainfall: {prediction[0]:.2f}\")\n",
    "        else:\n",
    "            # For Classification models, use all features including rainfall\n",
    "            features = np.array([[N, P, K, temperature, humidity, ph, rainfall]])\n",
    "            prediction = model.predict(features)\n",
    "            crop_prediction = le.inverse_transform([int(prediction[0])])[0]\n",
    "            result_label.config(text=f\"Predicted Crop: {crop_prediction}\")\n",
    "    \n",
    "    except ValueError as e:\n",
    "        messagebox.showerror(\"Input Error\", f\"Invalid input: {e}\")\n",
    "\n",
    "# Set up the GUI\n",
    "root = tk.Tk()\n",
    "root.title(\"Crop Recommendation System\")\n",
    "\n",
    "# Create input fields for the features\n",
    "labels = ['Nitrogen (N)', 'Phosphorus (P)', 'Potassium (K)', 'Temperature', \n",
    "          'Humidity', 'pH', 'Rainfall']\n",
    "entries = []\n",
    "\n",
    "for label_text in labels:\n",
    "    frame = ttk.Frame(root)\n",
    "    frame.pack(pady=5)\n",
    "    \n",
    "    label = ttk.Label(frame, text=label_text)\n",
    "    label.pack(side=tk.LEFT, padx=10)\n",
    "    \n",
    "    entry = ttk.Entry(frame)\n",
    "    entry.pack(side=tk.RIGHT, padx=10)\n",
    "    entries.append(entry)\n",
    "\n",
    "entry_N, entry_P, entry_K, entry_temperature, entry_humidity, entry_ph, entry_rainfall = entries\n",
    "\n",
    "# Create a dropdown to select the model\n",
    "model_label = ttk.Label(root, text=\"Select Model:\")\n",
    "model_label.pack(pady=5)\n",
    "model_combobox = ttk.Combobox(root, values=[\"KNN\", \"Decision Tree\", \"Linear Regression\"], state=\"readonly\")\n",
    "model_combobox.pack(pady=5)\n",
    "\n",
    "# Create a button to make predictions\n",
    "predict_button = ttk.Button(root, text=\"Predict\", command=predict)\n",
    "predict_button.pack(pady=20)\n",
    "\n",
    "# Label to display the result\n",
    "result_label = ttk.Label(root, text=\"Prediction will appear here\", font=(\"Helvetica\", 14))\n",
    "result_label.pack(pady=10)\n",
    "\n",
    "# Start the GUI loop\n",
    "root.mainloop()\n"
   ]
  },
  {
   "cell_type": "code",
   "execution_count": 22,
   "id": "b37c16ee-fb08-4eda-8895-7cd21a7a72f2",
   "metadata": {},
   "outputs": [
    {
     "name": "stdout",
     "output_type": "stream",
     "text": [
      "(1540, 7)\n",
      "(660, 7)\n"
     ]
    }
   ],
   "source": [
    "print(X_train.shape)  # Should output (n_samples, 7)\n",
    "print(X_test.shape)   # Should output (n_samples, 7)\n"
   ]
  },
  {
   "cell_type": "code",
   "execution_count": null,
   "id": "d64ea45a-9b74-479d-aaff-ba17e868db5e",
   "metadata": {},
   "outputs": [],
   "source": [
    "# Add missing feature with default value\n",
    "X_test['missing_feature'] = 0.0  # Replace with appropriate default value\n",
    "\n",
    "# Ensure the number of fe"
   ]
  },
  {
   "cell_type": "code",
   "execution_count": 20,
   "id": "3a0036a2-26bf-4e98-8382-56f7bb333b9f",
   "metadata": {},
   "outputs": [],
   "source": [
    "# Remove the 'missing_feature' column\n",
    "X_test = X_test.drop(columns=['missing_feature'])"
   ]
  },
  {
   "cell_type": "code",
   "execution_count": 24,
   "id": "161b315e-cabf-4672-9b9d-86e9ec0c06a0",
   "metadata": {},
   "outputs": [
    {
     "name": "stdout",
     "output_type": "stream",
     "text": [
      "N                int64\n",
      "P                int64\n",
      "K                int64\n",
      "temperature    float64\n",
      "humidity       float64\n",
      "ph             float64\n",
      "rainfall       float64\n",
      "dtype: object\n",
      "N                int64\n",
      "P                int64\n",
      "K                int64\n",
      "temperature    float64\n",
      "humidity       float64\n",
      "ph             float64\n",
      "rainfall       float64\n",
      "dtype: object\n"
     ]
    }
   ],
   "source": [
    "print(X_train.dtypes)\n",
    "print(X_test.dtypes)\n"
   ]
  },
  {
   "cell_type": "code",
   "execution_count": 26,
   "id": "f2f19a46-6ee3-494c-8c83-9c7716e9b6c9",
   "metadata": {},
   "outputs": [
    {
     "name": "stdout",
     "output_type": "stream",
     "text": [
      "N              0\n",
      "P              0\n",
      "K              0\n",
      "temperature    0\n",
      "humidity       0\n",
      "ph             0\n",
      "rainfall       0\n",
      "dtype: int64\n",
      "N              0\n",
      "P              0\n",
      "K              0\n",
      "temperature    0\n",
      "humidity       0\n",
      "ph             0\n",
      "rainfall       0\n",
      "dtype: int64\n"
     ]
    }
   ],
   "source": [
    "\n"
   ]
  },
  {
   "cell_type": "code",
   "execution_count": null,
   "id": "949d2fec-4e8b-4b94-9867-8d4c2057d0a5",
   "metadata": {},
   "outputs": [],
   "source": []
  }
 ],
 "metadata": {
  "kernelspec": {
   "display_name": "Python 3 (ipykernel)",
   "language": "python",
   "name": "python3"
  },
  "language_info": {
   "codemirror_mode": {
    "name": "ipython",
    "version": 3
   },
   "file_extension": ".py",
   "mimetype": "text/x-python",
   "name": "python",
   "nbconvert_exporter": "python",
   "pygments_lexer": "ipython3",
   "version": "3.12.4"
  }
 },
 "nbformat": 4,
 "nbformat_minor": 5
}
